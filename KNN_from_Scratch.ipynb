{
  "nbformat": 4,
  "nbformat_minor": 0,
  "metadata": {
    "colab": {
      "provenance": [],
      "authorship_tag": "ABX9TyMGsXHO3WHQyo/J0eJUiyzX",
      "include_colab_link": true
    },
    "kernelspec": {
      "name": "python3",
      "display_name": "Python 3"
    },
    "language_info": {
      "name": "python"
    }
  },
  "cells": [
    {
      "cell_type": "markdown",
      "metadata": {
        "id": "view-in-github",
        "colab_type": "text"
      },
      "source": [
        "<a href=\"https://colab.research.google.com/github/omidkhalafbeigi/knn_from_scratch/blob/main/KNN_from_Scratch.ipynb\" target=\"_parent\"><img src=\"https://colab.research.google.com/assets/colab-badge.svg\" alt=\"Open In Colab\"/></a>"
      ]
    },
    {
      "cell_type": "code",
      "execution_count": null,
      "metadata": {
        "id": "sYaNgp0e5Qki"
      },
      "outputs": [],
      "source": [
        "from sklearn.datasets import load_iris \n",
        "from sklearn.model_selection import train_test_split \n",
        "from sklearn.metrics import accuracy_score \n",
        "import numpy as np \n",
        "import heapq \n",
        "from collections import Counter "
      ]
    },
    {
      "cell_type": "code",
      "source": [
        "K = 5 \n",
        "X_train, X_test = np.float32(X_train), np.float32(X_test)\n",
        "pred = list()\n",
        "\n",
        "for sample in X_test:\n",
        "  dist = sample - X_train \n",
        "  dist = np.power(dist, 2)\n",
        "  dist = np.sum(dist, axis=1)\n",
        "  dist = np.sqrt(dist)\n",
        "  small = heapq.nsmallest(n=K, iterable=dist)\n",
        "\n",
        "  k_nearest_labels = list()\n",
        "  for value in small:\n",
        "    smallest_value_idx = np.argwhere(dist==value)[0].squeeze()\n",
        "    k_nearest_labels.append(y_train[smallest_value_idx])\n",
        "\n",
        "  label = Counter(k_nearest_labels).most_common(1)[0][0]\n",
        "  pred.append(label)\n",
        "\n",
        "\n",
        "accuracy_score(y_test, pred)"
      ],
      "metadata": {
        "colab": {
          "base_uri": "https://localhost:8080/"
        },
        "id": "Dv30tsVnojvl",
        "outputId": "6ed8034e-3b63-429d-e38e-fd1a70dbec6d"
      },
      "execution_count": null,
      "outputs": [
        {
          "output_type": "execute_result",
          "data": {
            "text/plain": [
              "1.0"
            ]
          },
          "metadata": {},
          "execution_count": 44
        }
      ]
    }
  ]
}